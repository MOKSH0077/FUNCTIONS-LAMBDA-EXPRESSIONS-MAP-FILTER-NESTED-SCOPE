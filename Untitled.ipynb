{
 "cells": [
  {
   "cell_type": "markdown",
   "id": "9b3d3064-0c94-43ee-ae23-fd6c2df5b1c5",
   "metadata": {
    "jp-MarkdownHeadingCollapsed": true
   },
   "source": [
    "# LIST COMPREHENSION"
   ]
  },
  {
   "cell_type": "code",
   "execution_count": 8,
   "id": "e67aad3a-bd67-4dc0-96d7-649c0fe4ffa7",
   "metadata": {},
   "outputs": [],
   "source": [
    "my_list1=[x for x in range(1,11)]"
   ]
  },
  {
   "cell_type": "code",
   "execution_count": 10,
   "id": "369e574c-3b6d-40af-87a2-fa39110ad56b",
   "metadata": {},
   "outputs": [
    {
     "data": {
      "text/plain": [
       "[1, 2, 3, 4, 5, 6, 7, 8, 9, 10]"
      ]
     },
     "execution_count": 10,
     "metadata": {},
     "output_type": "execute_result"
    }
   ],
   "source": [
    "my_list1"
   ]
  },
  {
   "cell_type": "code",
   "execution_count": 11,
   "id": "8b8eee78-e0dc-403d-a1ba-c0bde4df6293",
   "metadata": {},
   "outputs": [
    {
     "data": {
      "text/plain": [
       "['H',\n",
       " 'E',\n",
       " 'L',\n",
       " 'L',\n",
       " 'O',\n",
       " ' ',\n",
       " 'T',\n",
       " 'H',\n",
       " 'I',\n",
       " 'S',\n",
       " ' ',\n",
       " 'I',\n",
       " 'S',\n",
       " ' ',\n",
       " 'M',\n",
       " 'Y',\n",
       " ' ',\n",
       " 'W',\n",
       " 'O',\n",
       " 'R',\n",
       " 'L',\n",
       " 'D']"
      ]
     },
     "execution_count": 11,
     "metadata": {},
     "output_type": "execute_result"
    }
   ],
   "source": [
    "str='HELLO THIS IS MY WORLD'\n",
    "str_list=[y for y in str]\n",
    "str_list"
   ]
  },
  {
   "cell_type": "code",
   "execution_count": 14,
   "id": "f526d121-0a57-45f9-a58a-c8c29005c805",
   "metadata": {},
   "outputs": [],
   "source": [
    "my_list2=[x*y for x in range(1,11) for y in range(1,6)]"
   ]
  },
  {
   "cell_type": "code",
   "execution_count": 20,
   "id": "ec4ceb82-a40d-4033-9241-28d860c26db5",
   "metadata": {},
   "outputs": [
    {
     "data": {
      "text/plain": [
       "[1,\n",
       " 2,\n",
       " 3,\n",
       " 4,\n",
       " 5,\n",
       " 2,\n",
       " 4,\n",
       " 6,\n",
       " 8,\n",
       " 10,\n",
       " 3,\n",
       " 6,\n",
       " 9,\n",
       " 12,\n",
       " 15,\n",
       " 4,\n",
       " 8,\n",
       " 12,\n",
       " 16,\n",
       " 20,\n",
       " 5,\n",
       " 10,\n",
       " 15,\n",
       " 20,\n",
       " 25,\n",
       " 6,\n",
       " 12,\n",
       " 18,\n",
       " 24,\n",
       " 30,\n",
       " 7,\n",
       " 14,\n",
       " 21,\n",
       " 28,\n",
       " 35,\n",
       " 8,\n",
       " 16,\n",
       " 24,\n",
       " 32,\n",
       " 40,\n",
       " 9,\n",
       " 18,\n",
       " 27,\n",
       " 36,\n",
       " 45,\n",
       " 10,\n",
       " 20,\n",
       " 30,\n",
       " 40,\n",
       " 50]"
      ]
     },
     "execution_count": 20,
     "metadata": {},
     "output_type": "execute_result"
    }
   ],
   "source": [
    "my_list2"
   ]
  },
  {
   "cell_type": "code",
   "execution_count": 21,
   "id": "31876c33-8e17-4f57-9dce-a6dc217271ff",
   "metadata": {},
   "outputs": [
    {
     "data": {
      "text/plain": [
       "['H', 'T', 'N', '!', 'B', 'H']"
      ]
     },
     "execution_count": 21,
     "metadata": {},
     "output_type": "execute_result"
    }
   ],
   "source": [
    "str1='HELP THE NEEDY ! BE HUMBLE'\n",
    "first_letter_list=[x[0] for x in str1.split()]\n",
    "first_letter_list"
   ]
  },
  {
   "cell_type": "markdown",
   "id": "cb716840-79e9-4285-8f70-6b9c5771943b",
   "metadata": {},
   "source": [
    "# FUNCTIONS"
   ]
  },
  {
   "cell_type": "code",
   "execution_count": 39,
   "id": "6c81cb0f-1c53-4c38-a4b9-01e410005294",
   "metadata": {},
   "outputs": [
    {
     "name": "stdout",
     "output_type": "stream",
     "text": [
      "HELLO THIS IS MY FIRST FUNCTION\n"
     ]
    }
   ],
   "source": [
    "def myfunc():\n",
    "    print('HELLO THIS IS MY FIRST FUNCTION')\n",
    "myfunc()"
   ]
  },
  {
   "cell_type": "code",
   "execution_count": 40,
   "id": "922be257-23a1-4b92-8a3f-e9d0d7968081",
   "metadata": {},
   "outputs": [
    {
     "data": {
      "text/plain": [
       "'HELLO THIS IS MY FIRST FUNCTION'"
      ]
     },
     "execution_count": 40,
     "metadata": {},
     "output_type": "execute_result"
    }
   ],
   "source": [
    "def myfunc():\n",
    "    return 'HELLO THIS IS MY FIRST FUNCTION'\n",
    "myfunc()"
   ]
  },
  {
   "cell_type": "code",
   "execution_count": 41,
   "id": "37eca7d9-feaf-4c15-8eca-0e429a70044d",
   "metadata": {},
   "outputs": [
    {
     "data": {
      "text/plain": [
       "'HELLO'"
      ]
     },
     "execution_count": 41,
     "metadata": {},
     "output_type": "execute_result"
    }
   ],
   "source": [
    "def myfunc2(str):\n",
    "    return str\n",
    "myfunc2('HELLO')"
   ]
  },
  {
   "cell_type": "code",
   "execution_count": 42,
   "id": "d1938f0f-17f7-426e-904d-2c2d26c609e8",
   "metadata": {},
   "outputs": [],
   "source": [
    "def myfunc3(n1,n2,n3):\n",
    "    if n1>n2 and n1>n3:\n",
    "        print(f'{n1} IS GREATEST')\n",
    "    elif n2>n1 and n2>n3:\n",
    "        print(f'{n2} IS GREATEST')\n",
    "    elif n3>n1 and n3>n2:\n",
    "        print(f'{n3} IS GREATEST')\n",
    "    else:\n",
    "        print('ALL ARE EQUAL')\n",
    "    return myfunc3\n"
   ]
  },
  {
   "cell_type": "code",
   "execution_count": 43,
   "id": "e3b8f5c4-84ed-4818-b587-6ab05c02db4a",
   "metadata": {},
   "outputs": [
    {
     "name": "stdout",
     "output_type": "stream",
     "text": [
      "ALL ARE EQUAL\n",
      "<function myfunc3 at 0x0000017E6012B240>\n"
     ]
    }
   ],
   "source": [
    "result=myfunc3(1,1,1)\n",
    "print(result)\n"
   ]
  },
  {
   "cell_type": "code",
   "execution_count": 48,
   "id": "0a97509d-ab3d-4b71-a8a4-5af643b16d69",
   "metadata": {},
   "outputs": [],
   "source": [
    "def myfunc4(list):\n",
    "    for num in list:\n",
    "        if num%2==0:\n",
    "            return True\n",
    "        else:\n",
    "            pass\n",
    "    return False"
   ]
  },
  {
   "cell_type": "code",
   "execution_count": 50,
   "id": "ee13bdc7-f7cf-428b-8742-f58a3da52742",
   "metadata": {},
   "outputs": [
    {
     "data": {
      "text/plain": [
       "False"
      ]
     },
     "execution_count": 50,
     "metadata": {},
     "output_type": "execute_result"
    }
   ],
   "source": [
    "myfunc4([1,3])"
   ]
  },
  {
   "cell_type": "code",
   "execution_count": 51,
   "id": "7d2f60d1-f9e4-494b-bb6d-b1ef70914483",
   "metadata": {},
   "outputs": [],
   "source": [
    "def myfunc5(list):\n",
    "    even_list=[]\n",
    "    for num in list:\n",
    "        if num%2==0:\n",
    "            even_list.append(num)\n",
    "        else:\n",
    "            pass\n",
    "    return even_list\n",
    "            "
   ]
  },
  {
   "cell_type": "code",
   "execution_count": 52,
   "id": "6c411672-6839-4868-b83d-1469232aaf03",
   "metadata": {},
   "outputs": [
    {
     "data": {
      "text/plain": [
       "[2, 4, 66, 56, 80]"
      ]
     },
     "execution_count": 52,
     "metadata": {},
     "output_type": "execute_result"
    }
   ],
   "source": [
    "myfunc5([1,2,3,4,5,89,67,66,57,56,80])"
   ]
  },
  {
   "cell_type": "code",
   "execution_count": 60,
   "id": "0fee23d7-da30-418e-b706-2e6f5a8b946e",
   "metadata": {},
   "outputs": [],
   "source": [
    "max_age=[('aman',60),('ajay',58),('shubh',101)]\n",
    "cur_max=0\n",
    "name_ofmax=''\n",
    "def max_age_name(max_age):\n",
    "    cur_max=0\n",
    "    name_ofmax=''\n",
    "    for name,age in max_age:\n",
    "        \n",
    "       if age>cur_max:\n",
    "           cur_max=age\n",
    "           name_ofmax=name\n",
    "       else:\n",
    "           pass\n",
    "    return(name_ofmax,cur_max,)\n",
    "        "
   ]
  },
  {
   "cell_type": "code",
   "execution_count": 61,
   "id": "13215113-0284-4f3c-a803-d40f0c2124a2",
   "metadata": {},
   "outputs": [
    {
     "data": {
      "text/plain": [
       "('shubh', 101)"
      ]
     },
     "execution_count": 61,
     "metadata": {},
     "output_type": "execute_result"
    }
   ],
   "source": [
    "max_age_name(max_age)"
   ]
  },
  {
   "cell_type": "markdown",
   "id": "1751c68b-32e1-4315-9422-ebed8cb8a753",
   "metadata": {},
   "source": [
    "Functions in Python:\n",
    "\n",
    "Definition: Function ek block of code hai jo specific task perform karta hai. Ye code ko reusable aur organized banata hai.\n",
    "Syntax: def keyword se function define karte hain.\n",
    "Benefits: Reusability, modularity, aur readability badhata hai.\n",
    "Parameters: Function me inputs (parameters) pass kar sakte ho.\n",
    "Return: Function result ko return keyword ke through wapas bhej sakta hai.\n",
    "Types of Functions:\n",
    "\n",
    "Built-in Functions: Python ke pre-defined functions (e.g., print(), len()).\n",
    "User-defined Functions: Tumhare khud ke banaye hue functions."
   ]
  },
  {
   "cell_type": "markdown",
   "id": "186b6ab8-0a47-4d04-9d92-00150e20378e",
   "metadata": {},
   "source": [
    "# INTERACTION OF FUNCTIONS"
   ]
  },
  {
   "cell_type": "markdown",
   "id": "437a8957-7803-4107-8355-6dcf1a7c8fee",
   "metadata": {},
   "source": [
    "# BALLS IN CUP MINI GAME "
   ]
  },
  {
   "cell_type": "code",
   "execution_count": 1,
   "id": "5ef0709a-8004-4595-8147-b3cb5286336d",
   "metadata": {},
   "outputs": [],
   "source": [
    "from random import shuffle\n",
    "cups_balls=['','o','']\n",
    "def shuffling(cups_balls):\n",
    "    shuffle(cups_balls)\n",
    "    return cups_balls"
   ]
  },
  {
   "cell_type": "code",
   "execution_count": 2,
   "id": "c6efd9bb-3d27-4209-8024-876e963ce821",
   "metadata": {},
   "outputs": [],
   "source": [
    "def player_guess():\n",
    "    guess=input('CHOOSE A NUMBER FORM 0,1,2:')\n",
    "    while guess not in ['0','1','2']:\n",
    "        guess=input('CHOOSE A NUMBER FORM 0,1,2:')\n",
    "    return int(guess)"
   ]
  },
  {
   "cell_type": "code",
   "execution_count": 6,
   "id": "7a063125-2b0c-4e7e-80aa-a724f9645be9",
   "metadata": {},
   "outputs": [],
   "source": [
    "def check_guess(cups_balls,guess):\n",
    "    if cups_balls[guess]=='o':\n",
    "        print('CORRECT GUESS')\n",
    "        print(cups_balls)\n",
    "        print(f'YOUR GUESS INDEX {guess} IS COINCIDE WITH  POSITION OF BALL PRESENT IN CUPS')\n",
    "    else:\n",
    "        print('WRONG GUESS')\n",
    "        print(cups_balls)\n",
    "    "
   ]
  },
  {
   "cell_type": "code",
   "execution_count": 11,
   "id": "ab6de099-2fa5-4e86-af89-b86bd2d37eeb",
   "metadata": {},
   "outputs": [
    {
     "name": "stdin",
     "output_type": "stream",
     "text": [
      "CHOOSE A NUMBER FORM 0,1,2: 1\n"
     ]
    },
    {
     "name": "stdout",
     "output_type": "stream",
     "text": [
      "CORRECT GUESS\n",
      "['', 'o', '']\n",
      "YOUR GUESS INDEX 1 IS COINCIDE WITH  POSITION OF BALL PRESENT IN CUPS\n"
     ]
    }
   ],
   "source": [
    "# LIST\n",
    "cups_balls=['','o','']\n",
    "#shuffle\n",
    "shuffle_list=shuffling(cups_balls)\n",
    "#guess\n",
    "my_guess=player_guess()\n",
    "#check guess\n",
    "check_guess(shuffle_list,my_guess)  \n"
   ]
  },
  {
   "cell_type": "markdown",
   "id": "55778562-dd78-46c4-b312-3df88d28d2b9",
   "metadata": {},
   "source": [
    "# *ARGS AND **KWARGS"
   ]
  },
  {
   "cell_type": "code",
   "execution_count": 20,
   "id": "a70f3738-21b1-446f-b50b-b056b3d92b81",
   "metadata": {},
   "outputs": [],
   "source": [
    "def myarg(*args):\n",
    "    return sum(args)"
   ]
  },
  {
   "cell_type": "code",
   "execution_count": 21,
   "id": "545e8c88-f357-445f-a896-0424210fe6d8",
   "metadata": {},
   "outputs": [
    {
     "data": {
      "text/plain": [
       "10"
      ]
     },
     "execution_count": 21,
     "metadata": {},
     "output_type": "execute_result"
    }
   ],
   "source": [
    "myarg(1,2,3,4)"
   ]
  },
  {
   "cell_type": "code",
   "execution_count": 26,
   "id": "e664e3a0-c3b8-42d3-b0d7-2a6cbf0cefe0",
   "metadata": {},
   "outputs": [],
   "source": [
    "def myarg1(*x):\n",
    "    for item in x:\n",
    "        print(item)"
   ]
  },
  {
   "cell_type": "code",
   "execution_count": 27,
   "id": "b97d1adc-bf35-4874-ba67-69ca77ad2b69",
   "metadata": {},
   "outputs": [
    {
     "name": "stdout",
     "output_type": "stream",
     "text": [
      "1\n",
      "2\n",
      "3\n"
     ]
    }
   ],
   "source": [
    "myarg1(1,2,3)"
   ]
  },
  {
   "cell_type": "code",
   "execution_count": 39,
   "id": "081bb1d3-8dab-40c7-ba38-f23eb30c925a",
   "metadata": {},
   "outputs": [],
   "source": [
    "def mykwargs(**kwargs):\n",
    "    print(kwargs)\n",
    "    "
   ]
  },
  {
   "cell_type": "code",
   "execution_count": 40,
   "id": "5bf59f56-8e1a-4910-8e9a-09e581b68ff5",
   "metadata": {},
   "outputs": [
    {
     "name": "stdout",
     "output_type": "stream",
     "text": [
      "{'A': 'apple', 'B': 'boy'}\n"
     ]
    }
   ],
   "source": [
    "mykwargs(A='apple',B='boy')"
   ]
  },
  {
   "cell_type": "code",
   "execution_count": 41,
   "id": "fd00dec5-f596-4a4a-a966-3a7c74745406",
   "metadata": {},
   "outputs": [],
   "source": [
    "def mykwg2(**kwargs):\n",
    "    for k,v in kwargs.items():\n",
    "        print(f'{k} HAS {v}')"
   ]
  },
  {
   "cell_type": "code",
   "execution_count": 45,
   "id": "78502b40-ac56-45ce-ad49-856424b464d3",
   "metadata": {},
   "outputs": [
    {
     "name": "stdout",
     "output_type": "stream",
     "text": [
      "a HAS HELLO\n",
      "B HAS YELLLOW\n"
     ]
    }
   ],
   "source": [
    "mykwg2(a='HEL[='YELLLOW')"
   ]
  },
  {
   "cell_type": "markdown",
   "id": "be33fcfb-7f6e-4282-8afe-d9d71b546fb1",
   "metadata": {},
   "source": [
    "\n",
    "*args (Arbitrary Arguments):\n",
    "Jab tumhe ek function me unknown number of arguments pass karne ho, tab *args use karte ho. Ye arguments ko tuple ke form me store karta hai.\n",
    "Use: Jab tumhe fixed arguments ki zarurat na ho.\n",
    "\n",
    "**kwargs (Keyword Arguments):\n",
    "Jab tumhe unknown number of key-value pairs pass karne ho, tab **kwargs use karte ho. Ye arguments ko dictionary ke form me store karta hai.\n",
    "Use: Jab tumhe flexible aur descriptive arguments chahiye."
   ]
  },
  {
   "cell_type": "markdown",
   "id": "0664d055-9fae-4ea6-a45d-9eca4dcdf6ff",
   "metadata": {},
   "source": [
    "# LAMBDA EXPRESSION , MAP , FILTER "
   ]
  },
  {
   "cell_type": "code",
   "execution_count": 51,
   "id": "0688871a-1a3e-4b44-9127-79721d25670e",
   "metadata": {},
   "outputs": [
    {
     "data": {
      "text/plain": [
       "<function __main__.<lambda>(num)>"
      ]
     },
     "execution_count": 51,
     "metadata": {},
     "output_type": "execute_result"
    }
   ],
   "source": [
    "lambda num:num**2"
   ]
  },
  {
   "cell_type": "code",
   "execution_count": 58,
   "id": "873f5b09-08b1-4dc6-a813-7cd031fa3a26",
   "metadata": {},
   "outputs": [],
   "source": [
    "my_list=[1,2,3,4,5]\n",
    "result=list(map(lambda num:num**2,my_list))"
   ]
  },
  {
   "cell_type": "code",
   "execution_count": 59,
   "id": "8cff14ad-4814-427d-9bc3-c0939ca9bf9d",
   "metadata": {},
   "outputs": [
    {
     "data": {
      "text/plain": [
       "[1, 4, 9, 16, 25]"
      ]
     },
     "execution_count": 59,
     "metadata": {},
     "output_type": "execute_result"
    }
   ],
   "source": [
    "result"
   ]
  },
  {
   "cell_type": "code",
   "execution_count": 57,
   "id": "eed2a595-c916-45d5-a71a-1d1ca95122b9",
   "metadata": {},
   "outputs": [
    {
     "data": {
      "text/plain": [
       "<function __main__.<lambda>(num)>"
      ]
     },
     "execution_count": 57,
     "metadata": {},
     "output_type": "execute_result"
    }
   ],
   "source": [
    "lambda num:num%2==0"
   ]
  },
  {
   "cell_type": "code",
   "execution_count": 63,
   "id": "dcd26230-a88f-497e-813c-a53a59957673",
   "metadata": {},
   "outputs": [],
   "source": [
    "my_list1=[1,2,3,4,5,6,7,8,9]\n",
    "result1=list(filter(lambda num:num%2==0,my_list1))"
   ]
  },
  {
   "cell_type": "code",
   "execution_count": 64,
   "id": "8e148d99-7c37-4577-b6d3-9328b7624d23",
   "metadata": {},
   "outputs": [
    {
     "data": {
      "text/plain": [
       "[2, 4, 6, 8]"
      ]
     },
     "execution_count": 64,
     "metadata": {},
     "output_type": "execute_result"
    }
   ],
   "source": [
    "result1"
   ]
  },
  {
   "cell_type": "markdown",
   "id": "7b805284-8a3c-4682-872a-6c8fd37bda74",
   "metadata": {},
   "source": [
    "Lambda Expression:\n",
    "Lambda ek anonymous function hai jo bina def ke define hoti hai. Iska use tab hota hai jab hume ek chhoti, ek-line ki function likhni ho.\n",
    "Syntax: lambda arguments: expression\n",
    "Use: Short, temporary calculations ke liye.\n",
    "\n",
    "Map Function:\n",
    "Map ek iterable (list, tuple, etc.) ke har element par ek function apply karta hai. Ye hamesha ek function aur iterable leta hai.\n",
    "Use: Jab hume ek iterable ke sabhi elements par ek hi operation karna ho.\n",
    "\n",
    "Filter Function:\n",
    "Filter ek iterable ke elements ko filter karta hai based on a condition jo ek function define karta hai. Agar condition True ho, to element include hoga, warna nahi.\n",
    "Use: Jab hume ek iterable me se kuch specific elements nikalne ho."
   ]
  },
  {
   "cell_type": "markdown",
   "id": "a71d65f1-f099-4d50-ad78-ced4fe396f5d",
   "metadata": {},
   "source": [
    "# NESTED STATEMENTS AND SCOPES IN PYTHON "
   ]
  },
  {
   "cell_type": "code",
   "execution_count": 125,
   "id": "310972a0-8bce-4725-8e45-a1cf14e5ae94",
   "metadata": {},
   "outputs": [
    {
     "name": "stdout",
     "output_type": "stream",
     "text": [
      "this is num 20\n",
      "this is num 20\n",
      "this is num 10\n"
     ]
    }
   ],
   "source": [
    "num=10\n",
    "def xyz():\n",
    "    num=20\n",
    "    print(f'this is num {num}')\n",
    "    def abc():\n",
    "        print(f'this is num {num}')\n",
    "    abc()\n",
    "xyz()\n",
    "print(f'this is num {num}')"
   ]
  },
  {
   "cell_type": "code",
   "execution_count": 3,
   "id": "0911f180-765b-4824-9465-08f6ce56a536",
   "metadata": {},
   "outputs": [
    {
     "name": "stdout",
     "output_type": "stream",
     "text": [
      "this is num 200\n",
      "this is num now 10\n"
     ]
    }
   ],
   "source": [
    "num=200\n",
    "def xyz():\n",
    "    global num\n",
    "    print(f'this is num {num}')\n",
    "    num=10\n",
    "    print(f'this is num now {num}')\n",
    "xyz()\n",
    "    "
   ]
  },
  {
   "cell_type": "markdown",
   "id": "51ce40f8-003c-49c3-a771-bccdf489fdbb",
   "metadata": {},
   "source": [
    "Nested Scope:\n",
    "Nested scope ka matlab hota hai ki ek function ke andar doosra function define karna, jise hum nested function kehte hain. Jab ek function doosre function ko call karta hai, toh uss function ka scope (variables, parameters) nested function ke andar bhi accessible hota hai. Isse hum \"enclosing function\" bhi keh sakte hain."
   ]
  },
  {
   "cell_type": "markdown",
   "id": "4cb81e0c-62ea-45ba-9613-ca4de35f73d8",
   "metadata": {},
   "source": [
    "LEGB Rule:\n",
    "LEGB Rule Python me variable resolution order ko define karta hai. Matlab jab koi variable kisi function me use hota hai, toh Python pehle check karta hai ki woh variable kaunse scope me available hai, aur kis order me usko search karega. LEGB stands for:\n",
    "\n",
    "L (Local): Pehle function ke andar define kiya gaya variable.\n",
    "E (Enclosing): Agar koi enclosing function (nested function) hai, toh uska variable use hoga.\n",
    "G (Global): Agar local ya enclosing function me variable nahi milta, toh global scope me search kiya jayega.\n",
    "B (Built-in): Agar sabhi scopes me variable nahi milta, toh Python ke built-in scope me dekha jayega (jaise print(), len() functions)."
   ]
  },
  {
   "cell_type": "markdown",
   "id": "463533d0-f283-475a-97a4-d2382bfb43ac",
   "metadata": {},
   "source": [
    "# THANKS"
   ]
  },
  {
   "cell_type": "code",
   "execution_count": null,
   "id": "2b025369-3879-4a53-b19f-11487b14f4a7",
   "metadata": {},
   "outputs": [],
   "source": []
  }
 ],
 "metadata": {
  "kernelspec": {
   "display_name": "Python 3 (ipykernel)",
   "language": "python",
   "name": "python3"
  },
  "language_info": {
   "codemirror_mode": {
    "name": "ipython",
    "version": 3
   },
   "file_extension": ".py",
   "mimetype": "text/x-python",
   "name": "python",
   "nbconvert_exporter": "python",
   "pygments_lexer": "ipython3",
   "version": "3.11.7"
  }
 },
 "nbformat": 4,
 "nbformat_minor": 5
}
